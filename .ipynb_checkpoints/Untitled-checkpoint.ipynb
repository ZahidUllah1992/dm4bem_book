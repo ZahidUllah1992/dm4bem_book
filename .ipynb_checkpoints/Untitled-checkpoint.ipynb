{
 "cells": [
  {
   "cell_type": "markdown",
   "id": "d47f6e9c-0e63-40c5-8c59-62bfd58dcca3",
   "metadata": {},
   "source": [
    "[Jupyter Book 101](https://youtu.be/lZ2FHTkyaMU?si=qYmOUBvm8bTQW303)\n",
    "\n",
    "In Terminal\n",
    "\n",
    "`pip install ghp-import`\n",
    "\n",
    "`ghp_import -n -p -f <directory>`\n",
    "\n",
    "Show present working directory\n",
    "`pwd`\n",
    "\n",
    "Change directory\n",
    "`cd /Users/cghiaus/mybook`\n",
    "\n",
    "\n",
    "git clone https://github.com/cmg-git/book\n",
    "\n",
    "\n",
    "\n",
    "\n",
    "\n",
    "\n",
    "ghp-import -n -p -f _build/html\n",
    "\n",
    "\n",
    "github.com/choldgraf/agu-2021-book/setti,gs/pages"
   ]
  },
  {
   "cell_type": "code",
   "execution_count": null,
   "id": "82b352cb-5103-48e4-9581-9f9694caec07",
   "metadata": {},
   "outputs": [],
   "source": [
    "/Users/cghiaus/mybook"
   ]
  }
 ],
 "metadata": {
  "kernelspec": {
   "display_name": "Python 3 (ipykernel)",
   "language": "python",
   "name": "python3"
  },
  "language_info": {
   "codemirror_mode": {
    "name": "ipython",
    "version": 3
   },
   "file_extension": ".py",
   "mimetype": "text/x-python",
   "name": "python",
   "nbconvert_exporter": "python",
   "pygments_lexer": "ipython3",
   "version": "3.9.18"
  }
 },
 "nbformat": 4,
 "nbformat_minor": 5
}
