{
 "cells": [
  {
   "cell_type": "markdown",
   "id": "d47f6e9c-0e63-40c5-8c59-62bfd58dcca3",
   "metadata": {},
   "source": [
    "[Jupyter Book 101](https://youtu.be/lZ2FHTkyaMU?si=qYmOUBvm8bTQW303)\n",
    "\n",
    "In Terminal\n",
    "\n",
    "`$ pip install ghp-import`\n",
    "\n",
    "`$ ghp_import -n -p -f <directory>`\n",
    "\n",
    "`$ ghp-import -n -p -f /Users/cghiaus/Personel/Py/git_book/dm4bem_book/_build/html`\n",
    "\n",
    "`$ git clone https://github.com/cghiaus/dm4bem_book`\n",
    "\n",
    "Show present working directory\n",
    "`pwd`\n",
    "\n",
    "Change directory\n",
    "`cd /Users/cghiaus/mybook`\n",
    "\n",
    "\n",
    "git clone https://github.com/cmg-git/book\n",
    "ghp-import -n -p -f _build/html\n",
    "\n",
    "\n",
    "github.com/choldgraf/agu-2021-book/settings/pages"
   ]
  },
  {
   "cell_type": "code",
   "execution_count": 1,
   "id": "82b352cb-5103-48e4-9581-9f9694caec07",
   "metadata": {},
   "outputs": [
    {
     "ename": "NameError",
     "evalue": "name 'Users' is not defined",
     "output_type": "error",
     "traceback": [
      "\u001b[0;31m---------------------------------------------------------------------------\u001b[0m",
      "\u001b[0;31mNameError\u001b[0m                                 Traceback (most recent call last)",
      "\u001b[0;32m/var/folders/vp/k617ngs97xq4vlzlj5ts6sch0000gn/T/ipykernel_20385/142976040.py\u001b[0m in \u001b[0;36m<module>\u001b[0;34m\u001b[0m\n\u001b[0;32m----> 1\u001b[0;31m \u001b[0mUsers\u001b[0m\u001b[0;34m/\u001b[0m\u001b[0mcghiaus\u001b[0m\u001b[0;34m/\u001b[0m\u001b[0mmybook\u001b[0m\u001b[0;34m(\u001b[0m\u001b[0;34m)\u001b[0m\u001b[0;34m\u001b[0m\u001b[0;34m\u001b[0m\u001b[0m\n\u001b[0m",
      "\u001b[0;31mNameError\u001b[0m: name 'Users' is not defined"
     ]
    }
   ],
   "source": [
    "/Users/cghiaus/mybook"
   ]
  }
 ],
 "metadata": {
  "kernelspec": {
   "display_name": "Python 3 (ipykernel)",
   "language": "python",
   "name": "python3"
  },
  "language_info": {
   "codemirror_mode": {
    "name": "ipython",
    "version": 3
   },
   "file_extension": ".py",
   "mimetype": "text/x-python",
   "name": "python",
   "nbconvert_exporter": "python",
   "pygments_lexer": "ipython3",
   "version": "3.9.7"
  }
 },
 "nbformat": 4,
 "nbformat_minor": 5
}